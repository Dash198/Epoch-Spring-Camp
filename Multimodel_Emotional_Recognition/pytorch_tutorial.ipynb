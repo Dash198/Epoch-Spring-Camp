{
 "cells": [
  {
   "cell_type": "code",
   "execution_count": 2,
   "id": "c987b393",
   "metadata": {},
   "outputs": [],
   "source": [
    "import torch\n",
    "from torch import nn\n",
    "from torch.utils.data import DataLoader\n",
    "from torchvision import datasets\n",
    "from torchvision.transforms import ToTensor"
   ]
  },
  {
   "cell_type": "code",
   "execution_count": 4,
   "id": "e4f1a39e",
   "metadata": {},
   "outputs": [
    {
     "name": "stderr",
     "output_type": "stream",
     "text": [
      "100.0%\n",
      "100.0%\n",
      "100.0%\n",
      "100.0%\n"
     ]
    }
   ],
   "source": [
    "training_data = datasets.FashionMNIST(\n",
    "    root = 'data',\n",
    "    train = True,\n",
    "    download = True,\n",
    "    transform = ToTensor()\n",
    ")\n",
    "\n",
    "test_data = datasets.FashionMNIST(\n",
    "    root = \"data\",\n",
    "    train = False,\n",
    "    download = True,\n",
    "    transform = ToTensor()\n",
    ")"
   ]
  },
  {
   "cell_type": "code",
   "execution_count": 6,
   "id": "158f45fc",
   "metadata": {},
   "outputs": [
    {
     "name": "stdout",
     "output_type": "stream",
     "text": [
      "Shape of X [N, C, H, W]: torch.Size([32, 1, 28, 28])\n",
      "Shape of y: torch.Size([32]) torch.int64\n"
     ]
    }
   ],
   "source": [
    "batch_size = 32\n",
    "\n",
    "train_dataloader = DataLoader(training_data, batch_size=batch_size)\n",
    "test_dataloader = DataLoader(test_data, batch_size=batch_size)\n",
    "\n",
    "for X, y in test_dataloader:\n",
    "    print(f\"Shape of X [N, C, H, W]: {X.shape}\")\n",
    "    print(f\"Shape of y: {y.shape} {y.dtype}\")\n",
    "    break"
   ]
  },
  {
   "cell_type": "code",
   "execution_count": 8,
   "id": "606c5382",
   "metadata": {},
   "outputs": [
    {
     "name": "stdout",
     "output_type": "stream",
     "text": [
      "Using cuda device\n"
     ]
    }
   ],
   "source": [
    "device = torch.accelerator.current_accelerator().type if torch.accelerator.is_available() else \"cpu\"\n",
    "\n",
    "print(f\"Using {device} device\")"
   ]
  },
  {
   "cell_type": "code",
   "execution_count": 9,
   "id": "d69fae69",
   "metadata": {},
   "outputs": [
    {
     "name": "stdout",
     "output_type": "stream",
     "text": [
      "NeuralNetwork(\n",
      "  (flatten): Flatten(start_dim=1, end_dim=-1)\n",
      "  (linear_relu_stack): Sequential(\n",
      "    (0): Linear(in_features=784, out_features=512, bias=True)\n",
      "    (1): ReLU()\n",
      "    (2): Linear(in_features=512, out_features=512, bias=True)\n",
      "    (3): ReLU()\n",
      "    (4): Linear(in_features=512, out_features=10, bias=True)\n",
      "  )\n",
      ")\n"
     ]
    }
   ],
   "source": [
    "class NeuralNetwork(nn.Module):\n",
    "    def __init__(self):\n",
    "        super().__init__()\n",
    "        self.flatten = nn.Flatten()\n",
    "        self.linear_relu_stack = nn.Sequential(\n",
    "            nn.Linear(28*28, 512),\n",
    "            nn.ReLU(),\n",
    "            nn.Linear(512,512),\n",
    "            nn.ReLU(),\n",
    "            nn.Linear(512,10)\n",
    "        )\n",
    "    \n",
    "    def forward(self, x):\n",
    "        x = self.flatten(x)\n",
    "        logits = self.linear_relu_stack(x)\n",
    "        return logits\n",
    "    \n",
    "model = NeuralNetwork().to(device)\n",
    "print(model)"
   ]
  },
  {
   "cell_type": "code",
   "execution_count": 10,
   "id": "b7c49189",
   "metadata": {},
   "outputs": [],
   "source": [
    "loss_fn = nn.CrossEntropyLoss()\n",
    "optimizer = torch.optim.SGD(model.parameters(), lr = 1e-3)\n",
    "\n",
    "def train(dataloader, model, loss_fn, optimizer):\n",
    "    size = len(dataloader.dataset)\n",
    "    model.train()\n",
    "    for batch, (X, y) in enumerate(dataloader):\n",
    "        X, y = X.to(device), y.to(device)\n",
    "\n",
    "        # Compute prediction error\n",
    "        pred = model(X)\n",
    "        loss = loss_fn(pred, y)\n",
    "\n",
    "        # Backpropagation\n",
    "        loss.backward()\n",
    "        optimizer.step()\n",
    "        optimizer.zero_grad()\n",
    "\n",
    "        if batch % 100 == 0:\n",
    "            loss, current = loss.item(), (batch + 1) * len(X)\n",
    "            print(f\"loss: {loss:>7f}  [{current:>5d}/{size:>5d}]\")\n",
    "\n",
    "def test(dataloader, model, loss_fn):\n",
    "    size = len(dataloader.dataset)\n",
    "    num_batches = len(dataloader)\n",
    "    model.eval()\n",
    "    test_loss, correct = 0, 0\n",
    "    with torch.no_grad():\n",
    "        for X, y in dataloader:\n",
    "            X, y = X.to(device), y.to(device)\n",
    "            pred = model(X)\n",
    "            test_loss += loss_fn(pred, y).item()\n",
    "            correct += (pred.argmax(1) == y).type(torch.float).sum().item()\n",
    "    test_loss /= num_batches\n",
    "    correct /= size\n",
    "    print(f\"Test Error: \\n Accuracy: {(100*correct):>0.1f}%, Avg loss: {test_loss:>8f} \\n\")"
   ]
  },
  {
   "cell_type": "code",
   "execution_count": 11,
   "id": "b98d44da",
   "metadata": {},
   "outputs": [
    {
     "name": "stdout",
     "output_type": "stream",
     "text": [
      "Epoch 1\n",
      "-------------------------------\n",
      "loss: 2.309188  [   32/60000]\n",
      "loss: 2.293568  [ 3232/60000]\n",
      "loss: 2.268951  [ 6432/60000]\n",
      "loss: 2.252110  [ 9632/60000]\n",
      "loss: 2.238004  [12832/60000]\n",
      "loss: 2.234296  [16032/60000]\n",
      "loss: 2.222352  [19232/60000]\n",
      "loss: 2.205233  [22432/60000]\n",
      "loss: 2.196227  [25632/60000]\n",
      "loss: 2.142232  [28832/60000]\n",
      "loss: 2.095193  [32032/60000]\n",
      "loss: 2.074860  [35232/60000]\n",
      "loss: 2.161142  [38432/60000]\n",
      "loss: 2.063642  [41632/60000]\n",
      "loss: 2.018810  [44832/60000]\n",
      "loss: 1.993677  [48032/60000]\n",
      "loss: 2.065257  [51232/60000]\n",
      "loss: 1.978798  [54432/60000]\n",
      "loss: 1.890980  [57632/60000]\n",
      "Test Error: \n",
      " Accuracy: 56.3%, Avg loss: 1.888621 \n",
      "\n",
      "Epoch 2\n",
      "-------------------------------\n",
      "loss: 1.878795  [   32/60000]\n",
      "loss: 1.918485  [ 3232/60000]\n",
      "loss: 1.814679  [ 6432/60000]\n",
      "loss: 1.763213  [ 9632/60000]\n",
      "loss: 1.713011  [12832/60000]\n",
      "loss: 1.757359  [16032/60000]\n",
      "loss: 1.596958  [19232/60000]\n",
      "loss: 1.578790  [22432/60000]\n",
      "loss: 1.567296  [25632/60000]\n",
      "loss: 1.525420  [28832/60000]\n",
      "loss: 1.373047  [32032/60000]\n",
      "loss: 1.319753  [35232/60000]\n",
      "loss: 1.533369  [38432/60000]\n",
      "loss: 1.396014  [41632/60000]\n",
      "loss: 1.304650  [44832/60000]\n",
      "loss: 1.265087  [48032/60000]\n",
      "loss: 1.385067  [51232/60000]\n",
      "loss: 1.369288  [54432/60000]\n",
      "loss: 1.187805  [57632/60000]\n",
      "Test Error: \n",
      " Accuracy: 63.5%, Avg loss: 1.243458 \n",
      "\n",
      "Epoch 3\n",
      "-------------------------------\n",
      "loss: 1.249454  [   32/60000]\n",
      "loss: 1.248477  [ 3232/60000]\n",
      "loss: 1.217536  [ 6432/60000]\n",
      "loss: 1.269134  [ 9632/60000]\n",
      "loss: 1.137381  [12832/60000]\n",
      "loss: 1.281517  [16032/60000]\n",
      "loss: 1.015882  [19232/60000]\n",
      "loss: 1.032743  [22432/60000]\n",
      "loss: 1.088518  [25632/60000]\n",
      "loss: 1.165256  [28832/60000]\n",
      "loss: 0.986517  [32032/60000]\n",
      "loss: 0.941163  [35232/60000]\n",
      "loss: 1.215592  [38432/60000]\n",
      "loss: 1.068516  [41632/60000]\n",
      "loss: 0.995297  [44832/60000]\n",
      "loss: 0.900359  [48032/60000]\n",
      "loss: 1.031981  [51232/60000]\n",
      "loss: 1.137840  [54432/60000]\n",
      "loss: 0.900532  [57632/60000]\n",
      "Test Error: \n",
      " Accuracy: 66.0%, Avg loss: 0.978096 \n",
      "\n",
      "Epoch 4\n",
      "-------------------------------\n",
      "loss: 0.945933  [   32/60000]\n",
      "loss: 0.981191  [ 3232/60000]\n",
      "loss: 0.967884  [ 6432/60000]\n",
      "loss: 1.098435  [ 9632/60000]\n",
      "loss: 0.889828  [12832/60000]\n",
      "loss: 1.082254  [16032/60000]\n",
      "loss: 0.783600  [19232/60000]\n",
      "loss: 0.790750  [22432/60000]\n",
      "loss: 0.885283  [25632/60000]\n",
      "loss: 1.058255  [28832/60000]\n",
      "loss: 0.814342  [32032/60000]\n",
      "loss: 0.767515  [35232/60000]\n",
      "loss: 1.103762  [38432/60000]\n",
      "loss: 0.947970  [41632/60000]\n",
      "loss: 0.874810  [44832/60000]\n",
      "loss: 0.742363  [48032/60000]\n",
      "loss: 0.874005  [51232/60000]\n",
      "loss: 1.029705  [54432/60000]\n",
      "loss: 0.785520  [57632/60000]\n",
      "Test Error: \n",
      " Accuracy: 68.8%, Avg loss: 0.856252 \n",
      "\n",
      "Epoch 5\n",
      "-------------------------------\n",
      "loss: 0.791177  [   32/60000]\n",
      "loss: 0.875504  [ 3232/60000]\n",
      "loss: 0.842836  [ 6432/60000]\n",
      "loss: 0.987077  [ 9632/60000]\n",
      "loss: 0.766449  [12832/60000]\n",
      "loss: 0.984912  [16032/60000]\n",
      "loss: 0.667177  [19232/60000]\n",
      "loss: 0.659101  [22432/60000]\n",
      "loss: 0.780009  [25632/60000]\n",
      "loss: 1.004664  [28832/60000]\n",
      "loss: 0.725236  [32032/60000]\n",
      "loss: 0.675427  [35232/60000]\n",
      "loss: 1.034229  [38432/60000]\n",
      "loss: 0.895307  [41632/60000]\n",
      "loss: 0.819624  [44832/60000]\n",
      "loss: 0.659955  [48032/60000]\n",
      "loss: 0.784030  [51232/60000]\n",
      "loss: 0.959384  [54432/60000]\n",
      "loss: 0.728384  [57632/60000]\n",
      "Test Error: \n",
      " Accuracy: 71.4%, Avg loss: 0.785078 \n",
      "\n",
      "Done!\n"
     ]
    }
   ],
   "source": [
    "epochs = 5\n",
    "for t in range(epochs):\n",
    "    print(f\"Epoch {t+1}\\n-------------------------------\")\n",
    "    train(train_dataloader, model, loss_fn, optimizer)\n",
    "    test(test_dataloader, model, loss_fn)\n",
    "print(\"Done!\")"
   ]
  }
 ],
 "metadata": {
  "kernelspec": {
   "display_name": "epoch",
   "language": "python",
   "name": "python3"
  },
  "language_info": {
   "codemirror_mode": {
    "name": "ipython",
    "version": 3
   },
   "file_extension": ".py",
   "mimetype": "text/x-python",
   "name": "python",
   "nbconvert_exporter": "python",
   "pygments_lexer": "ipython3",
   "version": "3.12.10"
  }
 },
 "nbformat": 4,
 "nbformat_minor": 5
}
