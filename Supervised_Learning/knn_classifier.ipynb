{
 "cells": [
  {
   "cell_type": "markdown",
   "metadata": {},
   "source": [
    "# K-Nearest Neighbours (KNN) Classifier - From Scratch\n",
    "\n",
    "## Problem Statement\n",
    "\n",
    "You are provided with a small dataset of fruits classified based on their weight, size, and color.\n",
    "The goal is to implement the K-Nearest Neighbors (KNN) algorithm from scratch using only Python and NumPy (no external libraries like sklearn, pandas, etc.) to classify new fruit samples into one of the three types: **Apple**, **Banana**, or **Orange**."
   ]
  },
  {
   "cell_type": "markdown",
   "metadata": {},
   "source": [
    "## Load and Pre-process the Data\n",
    "\n",
    "Let's begin by loading the given dataset into a NumPy matrix and apply some pre-processing (namely ordinal encoding for the labels)."
   ]
  },
  {
   "cell_type": "code",
   "execution_count": 14,
   "metadata": {},
   "outputs": [
    {
     "data": {
      "text/plain": [
       "array([[150. ,   7. ,   1. ],\n",
       "       [120. ,   6.5,   0. ],\n",
       "       [180. ,   7.5,   2. ],\n",
       "       [155. ,   7.2,   1. ],\n",
       "       [110. ,   6. ,   0. ],\n",
       "       [190. ,   7.8,   2. ],\n",
       "       [145. ,   7.1,   1. ],\n",
       "       [115. ,   6.3,   0. ]])"
      ]
     },
     "execution_count": 14,
     "metadata": {},
     "output_type": "execute_result"
    }
   ],
   "source": [
    "import numpy as np\n",
    "\n",
    "data = [\n",
    "    [150, 7.0, 1, 'Apple'],\n",
    "    [120, 6.5, 0, 'Banana'],\n",
    "    [180, 7.5, 2, 'Orange'],\n",
    "    [155, 7.2, 1, 'Apple'],\n",
    "    [110, 6.0, 0, 'Banana'],\n",
    "    [190, 7.8, 2, 'Orange'],\n",
    "    [145, 7.1, 1, 'Apple'],\n",
    "    [115, 6.3, 0, 'Banana']\n",
    "]\n",
    "\n",
    "def preprocess_data(df):\n",
    "    encoding = {'Apple':0,'Banana':1,'Orange':2}\n",
    "    X = []\n",
    "    y = []\n",
    "\n",
    "    for row in df:\n",
    "        X.append(row[:-1])\n",
    "        y.append(encoding[row[3]])\n",
    "\n",
    "    return np.array(X),np.array(y)\n",
    "\n",
    "X,y = preprocess_data(data)\n",
    "\n",
    "X"
   ]
  },
  {
   "cell_type": "markdown",
   "metadata": {},
   "source": [
    "## Implementing the KNN Classifier\n",
    "\n",
    "Next, we'll move on to creating our KNN Classifier class!"
   ]
  },
  {
   "cell_type": "code",
   "execution_count": null,
   "metadata": {},
   "outputs": [],
   "source": [
    "def calc_dist(p1,p2):\n",
    "    return np.sum((p1-p2)**2)\n",
    "\n",
    "class KNN_Classifier:\n",
    "\n",
    "    def __init__(self,k=3):\n",
    "        self.k = k\n",
    "        self.X = None\n",
    "        self.y = None\n",
    "        self.encoding = {'Apple':0,'Banana':1,'Orange':2}\n",
    "\n",
    "    def fit(self,X,y):\n",
    "        self.X = X\n",
    "        self.y = y\n",
    "\n",
    "    def predict_one(self, x):\n",
    "        dists = [(calc_dist(x,x_i),y_i) for x_i,y_i in zip(self.X,self.y)]\n",
    "        dists.sort()\n",
    "\n",
    "        neighour_occurences = {}\n",
    "        for i in range(self.k):\n",
    "            if dists[i][1] not in neighour_occurences.keys():\n",
    "                neighour_occurences[dists[i][1]] = 1\n",
    "            else:\n",
    "                neighour_occurences[dists[i][1]] += 1\n",
    "        \n",
    "        max_occ = 0\n",
    "        max_freq_label = \"\"\n",
    "\n",
    "        for class_label in neighour_occurences.keys():\n",
    "            if neighour_occurences[class_label] > max_occ:\n",
    "                max_occ = neighour_occurences[class_label]\n",
    "                max_freq_label = class_label\n",
    "            \n",
    "        for label, enc in self.encoding.items():\n",
    "            if max_freq_label == enc:\n",
    "                return label\n",
    "\n",
    "            \n",
    "\n",
    "    def predict(self, X_test):\n",
    "        pass"
   ]
  }
 ],
 "metadata": {
  "kernelspec": {
   "display_name": "base",
   "language": "python",
   "name": "python3"
  },
  "language_info": {
   "codemirror_mode": {
    "name": "ipython",
    "version": 3
   },
   "file_extension": ".py",
   "mimetype": "text/x-python",
   "name": "python",
   "nbconvert_exporter": "python",
   "pygments_lexer": "ipython3",
   "version": "3.12.9"
  }
 },
 "nbformat": 4,
 "nbformat_minor": 2
}
