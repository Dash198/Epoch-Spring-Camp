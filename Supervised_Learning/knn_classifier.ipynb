{
 "cells": [
  {
   "cell_type": "markdown",
   "metadata": {},
   "source": [
    "# K-Nearest Neighbours (KNN) Classifier - From Scratch\n",
    "\n",
    "## Problem Statement\n",
    "\n",
    "You are provided with a small dataset of fruits classified based on their weight, size, and color.\n",
    "The goal is to implement the K-Nearest Neighbors (KNN) algorithm from scratch using only Python and NumPy (no external libraries like sklearn, pandas, etc.) to classify new fruit samples into one of the three types: **Apple**, **Banana**, or **Orange**."
   ]
  },
  {
   "cell_type": "markdown",
   "metadata": {},
   "source": [
    "## Load and Pre-process the Data\n",
    "\n",
    "Let's begin by loading the given dataset into a NumPy matrix and apply some pre-processing (namely ordinal encoding for the labels)."
   ]
  },
  {
   "cell_type": "code",
   "execution_count": 2,
   "metadata": {},
   "outputs": [
    {
     "data": {
      "text/plain": [
       "array([[150. ,   7. ,   1. ],\n",
       "       [120. ,   6.5,   0. ],\n",
       "       [180. ,   7.5,   2. ],\n",
       "       [155. ,   7.2,   1. ],\n",
       "       [110. ,   6. ,   0. ],\n",
       "       [190. ,   7.8,   2. ],\n",
       "       [145. ,   7.1,   1. ],\n",
       "       [115. ,   6.3,   0. ]])"
      ]
     },
     "execution_count": 2,
     "metadata": {},
     "output_type": "execute_result"
    }
   ],
   "source": [
    "import numpy as np\n",
    "\n",
    "data = [\n",
    "    [150, 7.0, 1, 'Apple'],\n",
    "    [120, 6.5, 0, 'Banana'],\n",
    "    [180, 7.5, 2, 'Orange'],\n",
    "    [155, 7.2, 1, 'Apple'],\n",
    "    [110, 6.0, 0, 'Banana'],\n",
    "    [190, 7.8, 2, 'Orange'],\n",
    "    [145, 7.1, 1, 'Apple'],\n",
    "    [115, 6.3, 0, 'Banana']\n",
    "]\n",
    "\n",
    "def preprocess_data(df):\n",
    "    encoding = {'Apple':0,'Banana':1,'Orange':2}\n",
    "    X = []\n",
    "    y = []\n",
    "\n",
    "    for row in df:\n",
    "        X.append(row[:-1])\n",
    "        y.append(encoding[row[3]])\n",
    "\n",
    "    return np.array(X),np.array(y)\n",
    "\n",
    "X,y = preprocess_data(data)\n",
    "\n",
    "X"
   ]
  },
  {
   "cell_type": "markdown",
   "metadata": {},
   "source": [
    "## Implementing the KNN Classifier\n",
    "\n",
    "Next, we'll move on to creating our KNN Classifier class!"
   ]
  },
  {
   "cell_type": "code",
   "execution_count": 3,
   "metadata": {},
   "outputs": [],
   "source": [
    "def calc_dist(p1,p2):\n",
    "    return np.sum((p1-p2)**2)\n",
    "\n",
    "class KNN_Classifier:\n",
    "\n",
    "    def __init__(self,k=3):\n",
    "        self.k = k\n",
    "        self.X = None\n",
    "        self.y = None\n",
    "        self.encoding = {'Apple':0,'Banana':1,'Orange':2}\n",
    "\n",
    "    def fit(self,X,y):\n",
    "        self.X = X\n",
    "        self.y = y\n",
    "\n",
    "    def predict_one(self, x):\n",
    "        dists = [(calc_dist(x,x_i),y_i) for x_i,y_i in zip(self.X,self.y)]\n",
    "        dists.sort()\n",
    "\n",
    "        neighour_occurences = {}\n",
    "        for i in range(self.k):\n",
    "            if dists[i][1] not in neighour_occurences.keys():\n",
    "                neighour_occurences[dists[i][1]] = 1\n",
    "            else:\n",
    "                neighour_occurences[dists[i][1]] += 1\n",
    "        \n",
    "        max_occ = 0\n",
    "        max_freq_label = \"\"\n",
    "\n",
    "        for class_label in neighour_occurences.keys():\n",
    "            if neighour_occurences[class_label] > max_occ:\n",
    "                max_occ = neighour_occurences[class_label]\n",
    "                max_freq_label = class_label\n",
    "            \n",
    "        for label, enc in self.encoding.items():\n",
    "            if max_freq_label == enc:\n",
    "                return label\n",
    "\n",
    "            \n",
    "\n",
    "    def predict(self, X_test):\n",
    "        preds = []\n",
    "        for x_i in X_test:\n",
    "            preds.append(self.predict_one(x_i))\n",
    "        \n",
    "        return np.array(preds)"
   ]
  },
  {
   "cell_type": "markdown",
   "metadata": {},
   "source": [
    "## Testing the Classifier\n",
    "\n",
    "Alright, now let's train the model and try out some predictions!"
   ]
  },
  {
   "cell_type": "code",
   "execution_count": 4,
   "metadata": {},
   "outputs": [
    {
     "data": {
      "text/plain": [
       "array(['Banana', 'Apple', 'Orange'], dtype='<U6')"
      ]
     },
     "execution_count": 4,
     "metadata": {},
     "output_type": "execute_result"
    }
   ],
   "source": [
    "knn = KNN_Classifier()\n",
    "\n",
    "knn.fit(X,y)\n",
    "\n",
    "test_data = np.array([\n",
    "    [118, 6.2, 0],  # Expected: Banana\n",
    "    [160, 7.3, 1],  # Expected: Apple\n",
    "    [185, 7.7, 2]   # Expected: Orange\n",
    "])\n",
    "\n",
    "y_actual = np.array(['Banana','Apple','Orange'])\n",
    "knn.predict(test_data)"
   ]
  },
  {
   "cell_type": "markdown",
   "metadata": {},
   "source": [
    "Seems to work as intended!"
   ]
  },
  {
   "cell_type": "markdown",
   "metadata": {},
   "source": [
    "# Bonus Tasks!\n",
    "\n",
    "Let's now try some bonus tasks!\n",
    "\n",
    "## Implement a Simple Accuracy Checker\n",
    "\n",
    "Let's make a simple one which simply returns the fraction of correct predictions out of the total test points passed."
   ]
  },
  {
   "cell_type": "code",
   "execution_count": 5,
   "metadata": {},
   "outputs": [
    {
     "data": {
      "text/plain": [
       "array([1.])"
      ]
     },
     "execution_count": 5,
     "metadata": {},
     "output_type": "execute_result"
    }
   ],
   "source": [
    "def check_accuracy(y_actual,y_pred):\n",
    "    return np.sum(y_actual==y_pred)/y_pred.shape\n",
    "\n",
    "check_accuracy(y_actual,knn.predict(test_data))"
   ]
  },
  {
   "cell_type": "markdown",
   "metadata": {},
   "source": [
    "100%!\n",
    "\n",
    "## Normalize Features\n",
    "\n",
    "Let's implement **Z-Score Normalization**. The normalised value $X'$ is defined as:\n",
    "\n",
    "$X' = \\frac{X - \\mu}{\\sigma}$\n",
    "\n",
    "where:\n",
    "- $X$ is a value in the feature vector.\n",
    "- $\\mu$ is the mean of the data.\n",
    "- $\\sigma$ is the standard deviation of the data."
   ]
  },
  {
   "cell_type": "code",
   "execution_count": 8,
   "metadata": {},
   "outputs": [
    {
     "name": "stdout",
     "output_type": "stream",
     "text": [
      "[[ 0.15815423  0.13068205  0.16012815]\n",
      " [-0.92633194 -0.74053163 -1.12089708]\n",
      " [ 1.24264041  1.00189574  1.44115338]\n",
      " [ 0.33890193  0.47916753  0.16012815]\n",
      " [-1.28782733 -1.61174531 -1.12089708]\n",
      " [ 1.6041358   1.52462395  1.44115338]\n",
      " [-0.02259346  0.30492479  0.16012815]\n",
      " [-1.10707964 -1.0890171  -1.12089708]]\n"
     ]
    }
   ],
   "source": [
    "def normalize(X):\n",
    "\n",
    "    def calcZScore(X_i):\n",
    "        mean = np.mean(X_i)\n",
    "        sdev = np.sqrt(np.mean((X_i - mean)**2))\n",
    "        return (X_i - mean) / sdev\n",
    "    \n",
    "    _,n = X.shape\n",
    "\n",
    "    for i in range(n):\n",
    "        X[:,i] = calcZScore(X[:,i])\n",
    "\n",
    "    return X\n",
    "\n",
    "print(normalize(X))\n"
   ]
  },
  {
   "cell_type": "markdown",
   "metadata": {},
   "source": [
    "Seems to have worked.. Now let's see if anything's changed."
   ]
  },
  {
   "cell_type": "code",
   "execution_count": 9,
   "metadata": {},
   "outputs": [
    {
     "data": {
      "text/plain": [
       "array([1.])"
      ]
     },
     "execution_count": 9,
     "metadata": {},
     "output_type": "execute_result"
    }
   ],
   "source": [
    "knn.fit(normalize(X),y)\n",
    "\n",
    "check_accuracy(knn.predict(normalize(test_data)),y_actual)"
   ]
  },
  {
   "cell_type": "markdown",
   "metadata": {},
   "source": [
    "Predictions are still the same!\n",
    "\n",
    "## Try a Different Distance Metric\n",
    "\n",
    "Let's use **Manhattan Distance**. The Manhattan Distance between two vectors $a$ and $b$ is defined as:\n",
    "\n",
    "Manhattan Distance $(a,b) = \\sum_{i=1}^n |a_i - b_i|$\n",
    "\n",
    "Let's reuse the earlier code and modify it a bit.."
   ]
  },
  {
   "cell_type": "code",
   "execution_count": 10,
   "metadata": {},
   "outputs": [],
   "source": [
    "def calc_dist(p1,p2):\n",
    "    return np.sum(abs(p1-p2))\n",
    "\n",
    "class KNN_Classifier_M:\n",
    "\n",
    "    def __init__(self,k=3):\n",
    "        self.k = k\n",
    "        self.X = None\n",
    "        self.y = None\n",
    "        self.encoding = {'Apple':0,'Banana':1,'Orange':2}\n",
    "\n",
    "    def fit(self,X,y):\n",
    "        self.X = X\n",
    "        self.y = y\n",
    "\n",
    "    def predict_one(self, x):\n",
    "        dists = [(calc_dist(x,x_i),y_i) for x_i,y_i in zip(self.X,self.y)]\n",
    "        dists.sort()\n",
    "\n",
    "        neighour_occurences = {}\n",
    "        for i in range(self.k):\n",
    "            if dists[i][1] not in neighour_occurences.keys():\n",
    "                neighour_occurences[dists[i][1]] = 1\n",
    "            else:\n",
    "                neighour_occurences[dists[i][1]] += 1\n",
    "        \n",
    "        max_occ = 0\n",
    "        max_freq_label = \"\"\n",
    "\n",
    "        for class_label in neighour_occurences.keys():\n",
    "            if neighour_occurences[class_label] > max_occ:\n",
    "                max_occ = neighour_occurences[class_label]\n",
    "                max_freq_label = class_label\n",
    "            \n",
    "        for label, enc in self.encoding.items():\n",
    "            if max_freq_label == enc:\n",
    "                return label\n",
    "\n",
    "            \n",
    "\n",
    "    def predict(self, X_test):\n",
    "        preds = []\n",
    "        for x_i in X_test:\n",
    "            preds.append(self.predict_one(x_i))\n",
    "        \n",
    "        return np.array(preds)"
   ]
  },
  {
   "cell_type": "markdown",
   "metadata": {},
   "source": [
    "Let's now test the data!"
   ]
  },
  {
   "cell_type": "code",
   "execution_count": 20,
   "metadata": {},
   "outputs": [
    {
     "name": "stdout",
     "output_type": "stream",
     "text": [
      "['Orange' 'Orange' 'Orange']\n"
     ]
    }
   ],
   "source": [
    "knn = KNN_Classifier_M()\n",
    "\n",
    "knn.fit(X,y)\n",
    "\n",
    "test_data = np.array([\n",
    "    [118, 6.2, 0],  # Expected: Banana\n",
    "    [160, 7.3, 1],  # Expected: Apple\n",
    "    [185, 7.7, 2]   # Expected: Orange\n",
    "])\n",
    "\n",
    "y_actual = np.array(['Banana','Apple','Orange'])\n",
    "print(knn.predict(test_data))"
   ]
  },
  {
   "cell_type": "markdown",
   "metadata": {},
   "source": [
    "Oh well.. That's a little off the mark! Guess the Manhattan Distance metric isn't the best choice for this situation.\n",
    "\n",
    "## Visualize Features\n",
    "\n",
    "Let's try to plot the relationships between any two feature vectors!"
   ]
  },
  {
   "cell_type": "code",
   "execution_count": null,
   "metadata": {},
   "outputs": [],
   "source": [
    "def plot_graph()"
   ]
  }
 ],
 "metadata": {
  "kernelspec": {
   "display_name": "base",
   "language": "python",
   "name": "python3"
  },
  "language_info": {
   "codemirror_mode": {
    "name": "ipython",
    "version": 3
   },
   "file_extension": ".py",
   "mimetype": "text/x-python",
   "name": "python",
   "nbconvert_exporter": "python",
   "pygments_lexer": "ipython3",
   "version": "3.12.9"
  }
 },
 "nbformat": 4,
 "nbformat_minor": 2
}
